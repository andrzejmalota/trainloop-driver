{
 "cells": [
  {
   "cell_type": "code",
   "execution_count": 6,
   "id": "6a299b7f",
   "metadata": {},
   "outputs": [
    {
     "name": "stdout",
     "output_type": "stream",
     "text": [
      "The autoreload extension is already loaded. To reload it, use:\n",
      "  %reload_ext autoreload\n"
     ]
    }
   ],
   "source": [
    "import torch\n",
    "import numpy as np\n",
    "import sys\n",
    "import os\n",
    "\n",
    "sys.path.append(os.getcwd()+'/src/')\n",
    "%load_ext autoreload\n",
    "%autoreload 2\n",
    "\n",
    "from attribute import *\n",
    "from plot import *\n",
    "from ppo_policy import *"
   ]
  },
  {
   "cell_type": "code",
   "execution_count": 7,
   "id": "touched-organ",
   "metadata": {},
   "outputs": [],
   "source": [
    "from stable_baselines3 import PPO"
   ]
  },
  {
   "cell_type": "code",
   "execution_count": 8,
   "id": "45eb23a9",
   "metadata": {},
   "outputs": [
    {
     "data": {
      "text/plain": [
       "torch.Size([12, 1, 1, 10, 7])"
      ]
     },
     "execution_count": 8,
     "metadata": {},
     "output_type": "execute_result"
    }
   ],
   "source": [
    "model = PPO.load('../best_model/ppo/CnnPolicy/best_model.zip')\n",
    "X = np.load('../best_model/ppo/CnnPolicy/observations.npy')\n",
    "X = torch.Tensor(X)\n",
    "X.shape"
   ]
  },
  {
   "cell_type": "code",
   "execution_count": 13,
   "id": "f776cc31",
   "metadata": {},
   "outputs": [
    {
     "data": {
      "text/plain": [
       "5"
      ]
     },
     "execution_count": 13,
     "metadata": {},
     "output_type": "execute_result"
    }
   ],
   "source": [
    "len(X.shape)"
   ]
  },
  {
   "cell_type": "code",
   "execution_count": 14,
   "id": "b6ee6414",
   "metadata": {},
   "outputs": [],
   "source": [
    "from ppo_policy import PPOPolicy\n",
    "ppo_net = PPOPolicy(model.observation_space, model.action_space, model.lr_schedule, model)"
   ]
  },
  {
   "cell_type": "code",
   "execution_count": 15,
   "id": "aa87f292-637d-4521-8d49-e05db1557557",
   "metadata": {},
   "outputs": [
    {
     "name": "stderr",
     "output_type": "stream",
     "text": [
      "/Users/amalota/anaconda3/envs/py37_trainloop/lib/python3.7/site-packages/ipykernel_launcher.py:1: UserWarning: To copy construct from a tensor, it is recommended to use sourceTensor.clone().detach() or sourceTensor.clone().detach().requires_grad_(True), rather than torch.tensor(sourceTensor).\n",
      "  \"\"\"Entry point for launching an IPython kernel.\n"
     ]
    },
    {
     "data": {
      "text/plain": [
       "tensor([[0.0074]], grad_fn=<AddmmBackward0>)"
      ]
     },
     "execution_count": 15,
     "metadata": {},
     "output_type": "execute_result"
    }
   ],
   "source": [
    "x = torch.tensor(X[10])\n",
    "ppo_net.forward(x)"
   ]
  },
  {
   "cell_type": "code",
   "execution_count": 16,
   "id": "a657cd0f",
   "metadata": {},
   "outputs": [],
   "source": [
    "N = 500\n",
    "idxs = np.random.choice(np.arange(X.shape[0]), size=N)\n",
    "X_sample = X[idxs]\n",
    "ig_attributor = IGAttributor(net=ppo_net,\n",
    "                            policy='cnn',\n",
    "                            agent='ppo',\n",
    "                            data=X_sample)"
   ]
  },
  {
   "cell_type": "code",
   "execution_count": 23,
   "id": "bb21a161",
   "metadata": {},
   "outputs": [
    {
     "name": "stdout",
     "output_type": "stream",
     "text": [
      "Action made: ACTION_NOTHING\n"
     ]
    },
    {
     "data": {
      "image/png": "[encoded data removed]",
      "text/plain": [
       "<Figure size 720x432 with 4 Axes>"
      ]
     },
     "metadata": {
      "needs_background": "light"
     },
     "output_type": "display_data"
    }
   ],
   "source": [
    "ig_attributor.explain_example(8)"
   ]
  },
  {
   "cell_type": "code",
   "execution_count": 24,
   "id": "bfded767-0da2-44a1-8326-3b3ec9bac2b0",
   "metadata": {},
   "outputs": [],
   "source": [
    "X_manual = torch.Tensor([[[\n",
    "    [[0, 1, 1, 1, 1, 1, 1],\n",
    "    [0, 1, 1, 1, 1, 1, 1],\n",
    "    [0, 1, 1, 1, 1, 1, 1],\n",
    "    [0, 1, 1, 1, 1, 1, 1],\n",
    "    [0, 1, 1, 1, 1, 1, 1],\n",
    "    [0, 1, 1, 1, 1, 1, 1],\n",
    "    [0, 1, 1, 1, 1, 1, 1],\n",
    "    [0, 1, 1, 1, 1, 1, 1],\n",
    "    [0, 1, 1, 1, 1, 1, 1],\n",
    "    [0, 1, 1, 1, 1, 1, 1]],\n",
    "    # [[0.5, 0.5, 0.5, 0.5, 0.5, 0.5, 0.5]],\n",
    "    # [[0.01, 0.01, 0.01, 0.01, 0.01, 0.01, 0.01]]\n",
    "    ]]])"
   ]
  },
  {
   "cell_type": "code",
   "execution_count": 25,
   "id": "4ced86cb-cb17-4bb1-b873-3299a5552688",
   "metadata": {},
   "outputs": [
    {
     "data": {
      "text/plain": [
       "torch.Size([1, 1, 1, 10, 7])"
      ]
     },
     "execution_count": 25,
     "metadata": {},
     "output_type": "execute_result"
    }
   ],
   "source": [
    "X_manual.shape"
   ]
  },
  {
   "cell_type": "code",
   "execution_count": 28,
   "id": "c4714e20",
   "metadata": {},
   "outputs": [],
   "source": [
    "ig_attributor = IGAttributor(net=ppo_net,\n",
    "                            policy='cnn',\n",
    "                            agent='ppo',\n",
    "                            data=X_manual)"
   ]
  },
  {
   "cell_type": "code",
   "execution_count": 29,
   "id": "26ab8a3e-ece0-488a-b04e-fca6500164f4",
   "metadata": {},
   "outputs": [
    {
     "name": "stdout",
     "output_type": "stream",
     "text": [
      "Action made: ACTION_NOTHING\n"
     ]
    },
    {
     "data": {
      "image/png": "[encoded data removed]",
      "text/plain": [
       "<Figure size 720x432 with 4 Axes>"
      ]
     },
     "metadata": {
      "needs_background": "light"
     },
     "output_type": "display_data"
    }
   ],
   "source": [
    "ig_attributor.explain_example(idx=0)"
   ]
  },
  {
   "cell_type": "code",
   "execution_count": null,
   "id": "91e32e15",
   "metadata": {},
   "outputs": [],
   "source": []
  }
 ],
 "metadata": {
  "interpreter": {
   "hash": "25eb1f0c4ff87d065bc066dad851a6bc123fb45ece5ef20acdb848c5009f8a5c"
  },
  "kernelspec": {
   "display_name": "Python 3.7.12 ('py37_trainloop')",
   "language": "python",
   "name": "python3"
  },
  "language_info": {
   "codemirror_mode": {
    "name": "ipython",
    "version": 3
   },
   "file_extension": ".py",
   "mimetype": "text/x-python",
   "name": "python",
   "nbconvert_exporter": "python",
   "pygments_lexer": "ipython3",
   "version": "3.7.12"
  }
 },
 "nbformat": 4,
 "nbformat_minor": 5
}
